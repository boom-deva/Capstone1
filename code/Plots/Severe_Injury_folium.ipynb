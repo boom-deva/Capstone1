{
 "cells": [
  {
   "cell_type": "markdown",
   "metadata": {},
   "source": [
    "### Creating folium html map of severe occupational injuries 2015-2018"
   ]
  },
  {
   "cell_type": "code",
   "execution_count": 63,
   "metadata": {},
   "outputs": [],
   "source": [
    "import pandas as pd\n",
    "import folium\n",
    "from folium.plugins import MarkerCluster"
   ]
  },
  {
   "cell_type": "code",
   "execution_count": 64,
   "metadata": {},
   "outputs": [],
   "source": [
    "severe = pd.read_csv('../../data/data/severeinjury.csv').drop('Unnamed: 0', axis=1)"
   ]
  },
  {
   "cell_type": "code",
   "execution_count": 65,
   "metadata": {
    "scrolled": true
   },
   "outputs": [
    {
     "data": {
      "text/plain": [
       "Index(['Identification Number', 'UPA', 'EventDate', 'Employer', 'Address1',\n",
       "       'Address2', 'City', 'State', 'Zip', 'Latitude', 'Longitude',\n",
       "       'Primary NAICS', 'Hospitalized', 'Amputation', 'Inspection',\n",
       "       'Final Narrative', 'Nature', 'NatureTitle', 'Part of Body',\n",
       "       'Part of Body Title', 'Event', 'EventTitle', 'Source', 'SourceTitle',\n",
       "       'Secondary Source', 'Secondary Source Title'],\n",
       "      dtype='object')"
      ]
     },
     "execution_count": 65,
     "metadata": {},
     "output_type": "execute_result"
    }
   ],
   "source": [
    "severe.columns"
   ]
  },
  {
   "cell_type": "code",
   "execution_count": 66,
   "metadata": {},
   "outputs": [],
   "source": [
    "severe.drop(columns=['Employer', 'Zip', 'Inspection','Identification Number','UPA','Address1','Address2','Nature','Part of Body', 'Source', 'SourceTitle', 'Secondary Source','Secondary Source Title','Hospitalized','Amputation','EventTitle','Final Narrative','Event', 'Primary NAICS', 'City'], inplace=True)"
   ]
  },
  {
   "cell_type": "code",
   "execution_count": 67,
   "metadata": {
    "scrolled": true
   },
   "outputs": [
    {
     "data": {
      "text/html": [
       "<div>\n",
       "<style scoped>\n",
       "    .dataframe tbody tr th:only-of-type {\n",
       "        vertical-align: middle;\n",
       "    }\n",
       "\n",
       "    .dataframe tbody tr th {\n",
       "        vertical-align: top;\n",
       "    }\n",
       "\n",
       "    .dataframe thead th {\n",
       "        text-align: right;\n",
       "    }\n",
       "</style>\n",
       "<table border=\"1\" class=\"dataframe\">\n",
       "  <thead>\n",
       "    <tr style=\"text-align: right;\">\n",
       "      <th></th>\n",
       "      <th>EventDate</th>\n",
       "      <th>State</th>\n",
       "      <th>Latitude</th>\n",
       "      <th>Longitude</th>\n",
       "      <th>NatureTitle</th>\n",
       "      <th>Part of Body Title</th>\n",
       "    </tr>\n",
       "  </thead>\n",
       "  <tbody>\n",
       "    <tr>\n",
       "      <th>0</th>\n",
       "      <td>1/1/2015</td>\n",
       "      <td>NEW YORK</td>\n",
       "      <td>41.46</td>\n",
       "      <td>-74.53</td>\n",
       "      <td>Fractures</td>\n",
       "      <td>Lower leg(s)</td>\n",
       "    </tr>\n",
       "    <tr>\n",
       "      <th>1</th>\n",
       "      <td>1/1/2015</td>\n",
       "      <td>WISCONSIN</td>\n",
       "      <td>43.59</td>\n",
       "      <td>-89.79</td>\n",
       "      <td>Second degree heat (thermal) burns</td>\n",
       "      <td>Leg(s), n.e.c.</td>\n",
       "    </tr>\n",
       "    <tr>\n",
       "      <th>2</th>\n",
       "      <td>1/1/2015</td>\n",
       "      <td>PENNSYLVANIA</td>\n",
       "      <td>40.49</td>\n",
       "      <td>-80.11</td>\n",
       "      <td>Traumatic injuries and disorders, unspecified</td>\n",
       "      <td>Nonclassifiable</td>\n",
       "    </tr>\n",
       "    <tr>\n",
       "      <th>3</th>\n",
       "      <td>1/1/2015</td>\n",
       "      <td>GEORGIA</td>\n",
       "      <td>32.77</td>\n",
       "      <td>-83.65</td>\n",
       "      <td>Soreness, pain, hurt-nonspecified injury</td>\n",
       "      <td>Leg(s), unspecified</td>\n",
       "    </tr>\n",
       "    <tr>\n",
       "      <th>4</th>\n",
       "      <td>1/1/2015</td>\n",
       "      <td>WISCONSIN</td>\n",
       "      <td>42.67</td>\n",
       "      <td>-89.04</td>\n",
       "      <td>Fractures</td>\n",
       "      <td>Finger(s), fingernail(s), n.e.c.</td>\n",
       "    </tr>\n",
       "  </tbody>\n",
       "</table>\n",
       "</div>"
      ],
      "text/plain": [
       "  EventDate         State  Latitude  Longitude  \\\n",
       "0  1/1/2015      NEW YORK     41.46     -74.53   \n",
       "1  1/1/2015     WISCONSIN     43.59     -89.79   \n",
       "2  1/1/2015  PENNSYLVANIA     40.49     -80.11   \n",
       "3  1/1/2015       GEORGIA     32.77     -83.65   \n",
       "4  1/1/2015     WISCONSIN     42.67     -89.04   \n",
       "\n",
       "                                     NatureTitle  \\\n",
       "0                                      Fractures   \n",
       "1             Second degree heat (thermal) burns   \n",
       "2  Traumatic injuries and disorders, unspecified   \n",
       "3       Soreness, pain, hurt-nonspecified injury   \n",
       "4                                      Fractures   \n",
       "\n",
       "                 Part of Body Title  \n",
       "0                      Lower leg(s)  \n",
       "1                    Leg(s), n.e.c.  \n",
       "2                   Nonclassifiable  \n",
       "3               Leg(s), unspecified  \n",
       "4  Finger(s), fingernail(s), n.e.c.  "
      ]
     },
     "execution_count": 67,
     "metadata": {},
     "output_type": "execute_result"
    }
   ],
   "source": [
    "severe.head()"
   ]
  },
  {
   "cell_type": "code",
   "execution_count": 69,
   "metadata": {},
   "outputs": [],
   "source": [
    "severe.dropna(inplace=True)"
   ]
  },
  {
   "cell_type": "code",
   "execution_count": 71,
   "metadata": {},
   "outputs": [],
   "source": [
    "severe.reset_index(drop=True, inplace=True)"
   ]
  },
  {
   "cell_type": "code",
   "execution_count": 72,
   "metadata": {},
   "outputs": [
    {
     "data": {
      "text/plain": [
       "(41529, 6)"
      ]
     },
     "execution_count": 72,
     "metadata": {},
     "output_type": "execute_result"
    }
   ],
   "source": [
    "severe.shape"
   ]
  },
  {
   "cell_type": "code",
   "execution_count": 36,
   "metadata": {},
   "outputs": [],
   "source": [
    "states = ['ALABAMA','ALASKA','ARKANSAS','ARIZONA','CALIFORNIA','COLORADO'\n",
    "'CONNECTICUT','DELAWARE','DISTRICT OF COLUMBIA','FLORIDA','GEORGIA',\n",
    "'HAWAII','IOWA','IDAHO','ILLINOIS','INDIANA',\n",
    "'KANSAS','KENTUCKY','LOUISIANA','MASSACHUSETTS','MAINE','MARYLAND',\n",
    "'MICHIGAN','MINNESOTA','MISSOURI','MISSISSIPPI','MONTANA','NORTH CAROLINA',\n",
    "'NORTH DAKOTA',\n",
    "'NEBRASKA',\n",
    "'NEW HAMPSHIRE',\n",
    "'NEW JERSEY',\n",
    "'NEW MEXICO',\n",
    "'NEVADA',\n",
    "'NEW YORK',\n",
    "'OHIO',\n",
    "'OKLAHOMA',\n",
    "'OREGON',\n",
    "'PENNSYLVANIA',\n",
    "'RHODE ISLAND',\n",
    "'SOUTH CAROLINA',\n",
    "'SOUTH DAKOTA',\n",
    "'TENNESSEE',\n",
    "'TEXAS',\n",
    "'UTAH',\n",
    "'VIRGINIA',\n",
    "'VERMONT',\n",
    "'WASHINGTON',\n",
    "'WISCONSIN',\n",
    "'WEST VIRGINIA',\n",
    "'WYOMING']\n",
    "\n",
    "for state in states:\n",
    "    globals()[f'{state.lower()}_injuries'] = severe[severe['State']==f'{state}'].reset_index(drop=True)"
   ]
  },
  {
   "cell_type": "code",
   "execution_count": null,
   "metadata": {},
   "outputs": [],
   "source": [
    "m = folium.Map(location= (severe['Latitude'].mean(), severe['Longitude'].mean()),\n",
    "          tiles='Stamen Toner', zoom_start=7)\n",
    "\n",
    "mc = MarkerCluster()\n",
    "mc2 = MarkerCluster()\n",
    "\n",
    "for i in range(20764):\n",
    "    mc.add_child(folium.Marker(location = (severe['Latitude'][i], severe['Longitude'][i]), \n",
    "                               popup='Severe Injuries',\n",
    "                              tooltip= (severe['Part of Body Title'][i], severe['NatureTitle'][i])))\n",
    "for j in range(20764, 41528):\n",
    "    mc.add_child(folium.Marker(location = (severe['Latitude'][j], severe['Longitude'][j]), \n",
    "                               popup='Severe Injuries',\n",
    "                              tooltip= (severe['Part of Body Title'][j], severe['NatureTitle'][j])))    \n",
    "    \n",
    "m.add_child(mc)\n",
    "\n",
    "m\n",
    "m.save('./injuries.html')"
   ]
  }
 ],
 "metadata": {
  "kernelspec": {
   "display_name": "Python 3",
   "language": "python",
   "name": "python3"
  },
  "language_info": {
   "codemirror_mode": {
    "name": "ipython",
    "version": 3
   },
   "file_extension": ".py",
   "mimetype": "text/x-python",
   "name": "python",
   "nbconvert_exporter": "python",
   "pygments_lexer": "ipython3",
   "version": "3.7.3"
  }
 },
 "nbformat": 4,
 "nbformat_minor": 2
}
