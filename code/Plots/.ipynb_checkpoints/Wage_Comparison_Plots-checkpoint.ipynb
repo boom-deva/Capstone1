{
 "cells": [
  {
   "cell_type": "markdown",
   "metadata": {},
   "source": [
    "## Simple Wage Comparison Charts"
   ]
  },
  {
   "cell_type": "markdown",
   "metadata": {},
   "source": [
    "Loading in packages"
   ]
  },
  {
   "cell_type": "code",
   "execution_count": 2,
   "metadata": {},
   "outputs": [],
   "source": [
    "import pandas as pd\n",
    "import numpy as np\n",
    "import matplotlib.pyplot as plt\n",
    "%matplotlib inline"
   ]
  },
  {
   "cell_type": "code",
   "execution_count": 3,
   "metadata": {},
   "outputs": [],
   "source": [
    "# loading in wage data\n",
    "years = [2010,2012,2014,2016]\n",
    "\n",
    "for year in years:\n",
    "    globals()[f'wages_{year}'] = pd.read_csv(f'../../data/cleaned_data/wages/median_wage_{year}.csv').drop('Unnamed: 0', axis=1)"
   ]
  },
  {
   "cell_type": "code",
   "execution_count": 4,
   "metadata": {},
   "outputs": [
    {
     "data": {
      "text/html": [
       "<div>\n",
       "<style scoped>\n",
       "    .dataframe tbody tr th:only-of-type {\n",
       "        vertical-align: middle;\n",
       "    }\n",
       "\n",
       "    .dataframe tbody tr th {\n",
       "        vertical-align: top;\n",
       "    }\n",
       "\n",
       "    .dataframe thead th {\n",
       "        text-align: right;\n",
       "    }\n",
       "</style>\n",
       "<table border=\"1\" class=\"dataframe\">\n",
       "  <thead>\n",
       "    <tr style=\"text-align: right;\">\n",
       "      <th></th>\n",
       "      <th>Occupation/Industry</th>\n",
       "      <th>2010_Total $</th>\n",
       "      <th>2010_Union $</th>\n",
       "      <th>2010_Non Union $</th>\n",
       "      <th>2011_Total $</th>\n",
       "      <th>2011_Union $</th>\n",
       "      <th>2011_Non Union $</th>\n",
       "    </tr>\n",
       "  </thead>\n",
       "  <tbody>\n",
       "    <tr>\n",
       "      <th>0</th>\n",
       "      <td>Total full-time wage and salary workers</td>\n",
       "      <td>747.0</td>\n",
       "      <td>917</td>\n",
       "      <td>717.0</td>\n",
       "      <td>756.0</td>\n",
       "      <td>938</td>\n",
       "      <td>729.0</td>\n",
       "    </tr>\n",
       "    <tr>\n",
       "      <th>1</th>\n",
       "      <td>Management, professional, and related occupations</td>\n",
       "      <td>1063.0</td>\n",
       "      <td>1059</td>\n",
       "      <td>1064.0</td>\n",
       "      <td>1082.0</td>\n",
       "      <td>1090</td>\n",
       "      <td>1082.0</td>\n",
       "    </tr>\n",
       "  </tbody>\n",
       "</table>\n",
       "</div>"
      ],
      "text/plain": [
       "                                 Occupation/Industry  2010_Total $  \\\n",
       "0            Total full-time wage and salary workers         747.0   \n",
       "1  Management, professional, and related occupations        1063.0   \n",
       "\n",
       "  2010_Union $  2010_Non Union $  2011_Total $ 2011_Union $  2011_Non Union $  \n",
       "0          917             717.0         756.0          938             729.0  \n",
       "1         1059            1064.0        1082.0         1090            1082.0  "
      ]
     },
     "execution_count": 4,
     "metadata": {},
     "output_type": "execute_result"
    }
   ],
   "source": [
    "wages_2010.head(2)"
   ]
  },
  {
   "cell_type": "code",
   "execution_count": 15,
   "metadata": {},
   "outputs": [
    {
     "data": {
      "text/plain": [
       "Occupation/Industry     object\n",
       "2010_Total $           float64\n",
       "2010_Union $            object\n",
       "2010_Non Union $       float64\n",
       "2011_Total $           float64\n",
       "2011_Union $            object\n",
       "2011_Non Union $       float64\n",
       "dtype: object"
      ]
     },
     "execution_count": 15,
     "metadata": {},
     "output_type": "execute_result"
    }
   ],
   "source": [
    "wages_2010.dtypes"
   ]
  },
  {
   "cell_type": "code",
   "execution_count": 20,
   "metadata": {},
   "outputs": [],
   "source": [
    "# replacing punctuation so data can be made numeric for graphing\n",
    "wages_2010.replace([',','-'],['',0], regex=True, inplace=True)"
   ]
  },
  {
   "cell_type": "code",
   "execution_count": 28,
   "metadata": {},
   "outputs": [],
   "source": [
    "# converting to float numbers\n",
    "wages_2010['2010_Union $'] = wages_2010['2010_Union $'].astype('float64')\n",
    "wages_2011['2011_Union $'] = wages_2010['2011_Union $'].astype('float64')"
   ]
  },
  {
   "cell_type": "code",
   "execution_count": 31,
   "metadata": {},
   "outputs": [
    {
     "data": {
      "image/png": "[encoded data removed]",
      "text/plain": [
       "<Figure size 432x288 with 1 Axes>"
      ]
     },
     "metadata": {
      "needs_background": "light"
     },
     "output_type": "display_data"
    }
   ],
   "source": [
    "X = np.arange(3)\n",
    "width = .35\n",
    "plt.figure(figsize=(6,4))\n",
    "ax = plt.subplot()\n",
    "ax.bar(X, wages_2010[wages_2010['Occupation/Industry']=='Construction']['2010_Union $'].mean(), width, color = 'b',label = 'Union')\n",
    "ax.bar(X - width, wages_2010[wages_2010['Occupation/Industry']=='Construction']['2010_Non Union $'].mean(), width, color = 'r',label= 'Non Union')\n",
    "ax.legend(('Union','Non Union'))\n",
    "ax.set_title('Wage Differences with Union Membership (USD), 2010')\n",
    "ax.set_ylabel('Weekly USD');"
   ]
  },
  {
   "cell_type": "code",
   "execution_count": 34,
   "metadata": {},
   "outputs": [
    {
     "data": {
      "image/png": "[encoded data removed]",
      "text/plain": [
       "<Figure size 432x288 with 1 Axes>"
      ]
     },
     "metadata": {
      "needs_background": "light"
     },
     "output_type": "display_data"
    }
   ],
   "source": [
    "X = np.arange(3)\n",
    "width = .35\n",
    "plt.figure(figsize=(6,4))\n",
    "ax3 = plt.subplot()\n",
    "ax3.bar(X, wages_2012[wages_2012['Occupation/Industry']=='Construction']['2012_Union $'].mean(), width, color = 'b',label = 'Union')\n",
    "ax3.bar(X - width, wages_2012[wages_2012['Occupation/Industry']=='Construction']['2012_Non Union $'].mean(), width, color = 'r',label= 'Non Union')\n",
    "ax3.legend(('Union','Non Union'))\n",
    "ax3.set_title('Wage Differences with Union Membership (USD), 2012')\n",
    "ax3.set_ylabel('Weekly USD');"
   ]
  },
  {
   "cell_type": "code",
   "execution_count": 35,
   "metadata": {},
   "outputs": [
    {
     "data": {
      "image/png": "[encoded data removed]",
      "text/plain": [
       "<Figure size 432x288 with 1 Axes>"
      ]
     },
     "metadata": {
      "needs_background": "light"
     },
     "output_type": "display_data"
    }
   ],
   "source": [
    "X = np.arange(3)\n",
    "width = .35\n",
    "plt.figure(figsize=(6,4))\n",
    "ax4 = plt.subplot()\n",
    "ax4.bar(X, wages_2014[wages_2014['Occupation/Industry']=='Construction']['2014_Union $'].mean(), width, color = 'b',label = 'Union')\n",
    "ax4.bar(X - width, wages_2014[wages_2014['Occupation/Industry']=='Construction']['2014_Non Union $'].mean(), width, color = 'r',label= 'Non Union')\n",
    "ax4.legend(('Union','Non Union'))\n",
    "ax4.set_title('Wage Differences with Union Membership (USD), 2014')\n",
    "ax4.set_ylabel('Weekly USD');"
   ]
  },
  {
   "cell_type": "code",
   "execution_count": 36,
   "metadata": {
    "scrolled": true
   },
   "outputs": [
    {
     "data": {
      "image/png": "[encoded data removed]",
      "text/plain": [
       "<Figure size 432x288 with 1 Axes>"
      ]
     },
     "metadata": {
      "needs_background": "light"
     },
     "output_type": "display_data"
    }
   ],
   "source": [
    "X = np.arange(3)\n",
    "width = .35\n",
    "plt.figure(figsize=(6,4))\n",
    "ax = plt.subplot()\n",
    "ax.bar(X, wages_2016[wages_2016['Occupation/Industry']=='Construction']['2016_Union $'].mean(), width, color = 'b',label = 'Union')\n",
    "ax.bar(X - width, wages_2016[wages_2016['Occupation/Industry']=='Construction']['2016_Non Union $'].mean(), width, color = 'r',label= 'Non Union')\n",
    "ax.legend(('Union','Non Union'))\n",
    "ax.set_title('Wage Differences with Union Membership (USD), 2016')\n",
    "ax.set_ylabel('Weekly USD');"
   ]
  }
 ],
 "metadata": {
  "kernelspec": {
   "display_name": "Python 3",
   "language": "python",
   "name": "python3"
  },
  "language_info": {
   "codemirror_mode": {
    "name": "ipython",
    "version": 3
   },
   "file_extension": ".py",
   "mimetype": "text/x-python",
   "name": "python",
   "nbconvert_exporter": "python",
   "pygments_lexer": "ipython3",
   "version": "3.7.3"
  }
 },
 "nbformat": 4,
 "nbformat_minor": 2
}
