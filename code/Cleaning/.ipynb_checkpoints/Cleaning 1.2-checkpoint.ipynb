{
 "cells": [
  {
   "cell_type": "markdown",
   "metadata": {},
   "source": [
    "# Fatality Table Cleaning\n",
    "\n",
    "Our collected industry fatalities data is organized by state, rather than year.    The below process will combine all state fatality data in tables by year."
   ]
  },
  {
   "cell_type": "code",
   "execution_count": 1,
   "metadata": {},
   "outputs": [],
   "source": [
    "import pandas as pd"
   ]
  },
  {
   "cell_type": "code",
   "execution_count": 2,
   "metadata": {},
   "outputs": [],
   "source": [
    "def fatal_year2010(df):\n",
    "    # give columns relevant names\n",
    "    df.columns = ['State','Total_Fatalities','Construction_Fatalities']\n",
    "    # taking only data for year (in this case, 2010)\n",
    "    df = df.iloc[0:2,:]\n",
    "    df.drop(0, inplace=True)\n",
    "    # set index to the state name\n",
    "    df.set_index('State',drop=True,inplace=True)\n",
    "    return df"
   ]
  },
  {
   "cell_type": "code",
   "execution_count": 3,
   "metadata": {},
   "outputs": [],
   "source": [
    "# creating lists for future variable creation in all years\n",
    "\n",
    "stateabbrs = ['AL','AK','AR','AZ','CA','CO','CT','DE','DC',\n",
    "'FL','GA','HI','IA','ID','IL','IN','KS','KY','LA',\n",
    "'MA','ME','MD','MI','MN','MO','MS',\n",
    "'MT','NC','ND','NE','NH','NJ','NM',\n",
    "'NV','NY','OH','OK','OR','PA',\n",
    "'RI','SC','SD','TN','TX','UT',\n",
    "'VA','VT','WA','WI','WV','WY']\n",
    "\n",
    "states = ['Alabama','Alaska','Arkansas','Arizona','California','Colorado',\n",
    "'Connecticut','Delaware','District of Columbia','Florida','Georgia',\n",
    "'Hawaii','Iowa','Idaho','Illinois','Indiana',\n",
    "'Kansas','Kentucky','Louisiana','Massachusetts','Maine',\n",
    "'Maryland','Michigan','Minnesota','Missouri','Mississippi',\n",
    "'Montana','North Carolina','North Dakota','Nebraska','New Hampshire',\n",
    "'New Jersey','New Mexico','Nevada','New York','Ohio',\n",
    "'Oklahoma','Oregon','Pennsylvania','Rhode Island','South Carolina',\n",
    "'South Dakota','Tennessee','Texas','Utah','Virginia',\n",
    "'Vermont','Washington','Wisconsin','West Virginia','Wyoming']"
   ]
  },
  {
   "cell_type": "code",
   "execution_count": 4,
   "metadata": {},
   "outputs": [
    {
     "name": "stderr",
     "output_type": "stream",
     "text": [
      "C:\\Users\\justanotheregg\\Anaconda3\\envs\\dsi\\lib\\site-packages\\pandas\\core\\frame.py:3940: SettingWithCopyWarning: \n",
      "A value is trying to be set on a copy of a slice from a DataFrame\n",
      "\n",
      "See the caveats in the documentation: http://pandas.pydata.org/pandas-docs/stable/indexing.html#indexing-view-versus-copy\n",
      "  errors=errors)\n"
     ]
    }
   ],
   "source": [
    "# 2010\n",
    "\n",
    "for s, state in zip(stateabbrs, states):\n",
    "        globals()[f'{s}'] = fatal_year2010(pd.read_csv(f'../../data/cleaned_data/fatalities/{s}_fatalc.csv').T.reset_index().replace('2010_Total',f'{state}'))"
   ]
  },
  {
   "cell_type": "code",
   "execution_count": 5,
   "metadata": {},
   "outputs": [],
   "source": [
    "# consolidating state data into one table, saving to csv\n",
    "fatal_2010 = pd.concat([AL,AK,AR,AZ,CA,CO,CT,DE,DC,\n",
    "FL,GA,HI,IA,ID,IL,IN,KS,KY,LA,\n",
    "MA,ME,MD,MI,MN,MO,MS,\n",
    "MT,NC,ND,NE,NH,NJ,NM,\n",
    "NV,NY,OH,OK,OR,PA,\n",
    "RI,SC,SD,TN,TX,UT,\n",
    "VA,VT,WA,WI,WV,WY])\n",
    "fatal_2010.to_csv('../../data/cleaned_data/model_data/2010/fatal_2010.csv')"
   ]
  },
  {
   "cell_type": "code",
   "execution_count": 6,
   "metadata": {},
   "outputs": [],
   "source": [
    "def fatal_year2011(df):\n",
    "    df.columns = ['State','Total_Fatalities','Construction_Fatalities']\n",
    "    df = df.iloc[1:3,:].drop(1)\n",
    "    df.set_index('State',drop=True,inplace=True)\n",
    "    return df"
   ]
  },
  {
   "cell_type": "code",
   "execution_count": 7,
   "metadata": {},
   "outputs": [],
   "source": [
    "# all 2011 data\n",
    "\n",
    "for s, state in zip(stateabbrs, states):\n",
    "        globals()[f'{s}'] = fatal_year2011(pd.read_csv(f'../../data/cleaned_data/fatalities/{s}_fatalc.csv').T.reset_index().replace('2011_Total',f'{state}'))"
   ]
  },
  {
   "cell_type": "code",
   "execution_count": 8,
   "metadata": {},
   "outputs": [],
   "source": [
    "fatal_2011 = pd.concat([AL,AK,AR,AZ,CA,CO,CT,DE,DC,\n",
    "FL,GA,HI,IA,ID,IL,IN,KS,KY,LA,\n",
    "MA,ME,MD,MI,MN,MO,MS,\n",
    "MT,NC,ND,NE,NH,NJ,NM,\n",
    "NV,NY,OH,OK,OR,PA,\n",
    "RI,SC,SD,TN,TX,UT,\n",
    "VA,VT,WA,WI,WV,WY])\n",
    "\n",
    "fatal_2011.to_csv('../../data/cleaned_data/model_data/2011/fatal_2011.csv')"
   ]
  },
  {
   "cell_type": "code",
   "execution_count": 9,
   "metadata": {},
   "outputs": [],
   "source": [
    "def fatal_year2012(df):\n",
    "    df.columns = ['State','Total_Fatalities','Construction_Fatalities']\n",
    "    df = df.iloc[3:4,:]\n",
    "    df.set_index('State',drop=True,inplace=True)\n",
    "    return df"
   ]
  },
  {
   "cell_type": "code",
   "execution_count": 10,
   "metadata": {},
   "outputs": [],
   "source": [
    "# 2012\n",
    "\n",
    "for s, state in zip(stateabbrs, states):\n",
    "        globals()[f'{s}'] = fatal_year2012(pd.read_csv(f'../../data/cleaned_data/fatalities/{s}_fatalc.csv').T.reset_index().replace('2012_Total',f'{state}'))"
   ]
  },
  {
   "cell_type": "code",
   "execution_count": 11,
   "metadata": {},
   "outputs": [],
   "source": [
    "fatal_2012 = pd.concat([AL,AK,AR,AZ,CA,CO,CT,DE,DC,\n",
    "FL,GA,HI,IA,ID,IL,IN,KS,KY,LA,\n",
    "MA,ME,MD,MI,MN,MO,MS,\n",
    "MT,NC,ND,NE,NH,NJ,NM,\n",
    "NV,NY,OH,OK,OR,PA,\n",
    "RI,SC,SD,TN,TX,UT,\n",
    "VA,VT,WA,WI,WV,WY])\n",
    "\n",
    "fatal_2012.to_csv('../../data/cleaned_data/model_data/2012/fatal_2012.csv')"
   ]
  },
  {
   "cell_type": "code",
   "execution_count": 12,
   "metadata": {},
   "outputs": [],
   "source": [
    "def fatal_year2013(df):\n",
    "    df.columns = ['State','Total_Fatalities','Construction_Fatalities']\n",
    "    df = df.iloc[4:5,:]\n",
    "    df.set_index('State',drop=True,inplace=True)\n",
    "    return df"
   ]
  },
  {
   "cell_type": "code",
   "execution_count": 13,
   "metadata": {},
   "outputs": [],
   "source": [
    "# 2013\n",
    "\n",
    "for s, state in zip(stateabbrs, states):\n",
    "        globals()[f'{s}'] = fatal_year2013(pd.read_csv(f'../../data/cleaned_data/fatalities/{s}_fatalc.csv').T.reset_index().replace('2013_Total',f'{state}'))"
   ]
  },
  {
   "cell_type": "code",
   "execution_count": 14,
   "metadata": {},
   "outputs": [],
   "source": [
    "fatal_2013 = pd.concat([AL,AK,AR,AZ,CA,CO,CT,DE,DC,\n",
    "FL,GA,HI,IA,ID,IL,IN,KS,KY,LA,\n",
    "MA,ME,MD,MI,MN,MO,MS,\n",
    "MT,NC,ND,NE,NH,NJ,NM,\n",
    "NV,NY,OH,OK,OR,PA,\n",
    "RI,SC,SD,TN,TX,UT,\n",
    "VA,VT,WA,WI,WV,WY])\n",
    "\n",
    "fatal_2013.to_csv('../../data/cleaned_data/model_data/2013/fatal_2013.csv')"
   ]
  },
  {
   "cell_type": "code",
   "execution_count": 15,
   "metadata": {},
   "outputs": [],
   "source": [
    "def fatal_year2014(df):\n",
    "    df.columns = ['State','Total_Fatalities','Construction_Fatalities']\n",
    "    df = df.iloc[5:6,:]\n",
    "    df.set_index('State',drop=True,inplace=True)\n",
    "    return df"
   ]
  },
  {
   "cell_type": "code",
   "execution_count": 16,
   "metadata": {},
   "outputs": [],
   "source": [
    "# 2014\n",
    "\n",
    "for s, state in zip(stateabbrs, states):\n",
    "        globals()[f'{s}'] = fatal_year2014(pd.read_csv(f'../../data/cleaned_data/fatalities/{s}_fatalc.csv').T.reset_index().replace('2014_Total',f'{state}'))"
   ]
  },
  {
   "cell_type": "code",
   "execution_count": 17,
   "metadata": {},
   "outputs": [],
   "source": [
    "fatal_2014 = pd.concat([AL,AK,AR,AZ,CA,CO,CT,DE,DC,\n",
    "FL,GA,HI,IA,ID,IL,IN,KS,KY,LA,\n",
    "MA,ME,MD,MI,MN,MO,MS,\n",
    "MT,NC,ND,NE,NH,NJ,NM,\n",
    "NV,NY,OH,OK,OR,PA,\n",
    "RI,SC,SD,TN,TX,UT,\n",
    "VA,VT,WA,WI,WV,WY])\n",
    "\n",
    "fatal_2014.to_csv('../../data/cleaned_data/model_data/2014/fatal_2014.csv')"
   ]
  },
  {
   "cell_type": "code",
   "execution_count": 18,
   "metadata": {},
   "outputs": [],
   "source": [
    "def fatal_year2015(df):\n",
    "    df.columns = ['State','Total_Fatalities','Construction_Fatalities']\n",
    "    df = df.iloc[6:7,:]\n",
    "    df.set_index('State',drop=True,inplace=True)\n",
    "    return df"
   ]
  },
  {
   "cell_type": "code",
   "execution_count": 19,
   "metadata": {},
   "outputs": [],
   "source": [
    "# 2015\n",
    "\n",
    "for s, state in zip(stateabbrs, states):\n",
    "        globals()[f'{s}'] = fatal_year2015(pd.read_csv(f'../../data/cleaned_data/fatalities/{s}_fatalc.csv').T.reset_index().replace('2015_Total',f'{state}'))"
   ]
  },
  {
   "cell_type": "code",
   "execution_count": 20,
   "metadata": {},
   "outputs": [],
   "source": [
    "fatal_2015 = pd.concat([AL,AK,AR,AZ,CA,CO,CT,DE,DC,\n",
    "FL,GA,HI,IA,ID,IL,IN,KS,KY,LA,\n",
    "MA,ME,MD,MI,MN,MO,MS,\n",
    "MT,NC,ND,NE,NH,NJ,NM,\n",
    "NV,NY,OH,OK,OR,PA,\n",
    "RI,SC,SD,TN,TX,UT,\n",
    "VA,VT,WA,WI,WV,WY])\n",
    "\n",
    "fatal_2015.to_csv('../../data/cleaned_data/model_data/2015/fatal_2015.csv')"
   ]
  },
  {
   "cell_type": "code",
   "execution_count": 21,
   "metadata": {},
   "outputs": [],
   "source": [
    "def fatal_year2016(df):\n",
    "    df.columns = ['State','Total_Fatalities','Construction_Fatalities']\n",
    "    df = df.iloc[7:8,:]\n",
    "    df.set_index('State',drop=True,inplace=True)\n",
    "    return df"
   ]
  },
  {
   "cell_type": "code",
   "execution_count": 22,
   "metadata": {},
   "outputs": [],
   "source": [
    "# 2016\n",
    "\n",
    "for s, state in zip(stateabbrs, states):\n",
    "        globals()[f'{s}'] = fatal_year2016(pd.read_csv(f'../../data/cleaned_data/fatalities/{s}_fatalc.csv').T.reset_index().replace('2016_Total',f'{state}'))"
   ]
  },
  {
   "cell_type": "code",
   "execution_count": 23,
   "metadata": {},
   "outputs": [],
   "source": [
    "fatal_2016 = pd.concat([AL,AK,AR,AZ,CA,CO,CT,DE,DC,\n",
    "FL,GA,HI,IA,ID,IL,IN,KS,KY,LA,\n",
    "MA,ME,MD,MI,MN,MO,MS,\n",
    "MT,NC,ND,NE,NH,NJ,NM,\n",
    "NV,NY,OH,OK,OR,PA,\n",
    "RI,SC,SD,TN,TX,UT,\n",
    "VA,VT,WA,WI,WV,WY])\n",
    "\n",
    "fatal_2016.to_csv('../../data/cleaned_data/model_data/2016/fatal_2016.csv')"
   ]
  },
  {
   "cell_type": "code",
   "execution_count": 24,
   "metadata": {},
   "outputs": [],
   "source": [
    "def fatal_year2017(df):\n",
    "    df.columns = ['State','Total_Fatalities','Construction_Fatalities']\n",
    "    df = df.iloc[8:9,:]\n",
    "    df.set_index('State',drop=True,inplace=True)\n",
    "    return df"
   ]
  },
  {
   "cell_type": "code",
   "execution_count": 25,
   "metadata": {},
   "outputs": [],
   "source": [
    "# 2017\n",
    "\n",
    "for s, state in zip(stateabbrs, states):\n",
    "        globals()[f'{s}'] = fatal_year2017(pd.read_csv(f'../../data/cleaned_data/fatalities/{s}_fatalc.csv').T.reset_index().replace('2017_Total',f'{state}'))"
   ]
  },
  {
   "cell_type": "code",
   "execution_count": 26,
   "metadata": {},
   "outputs": [],
   "source": [
    "fatal_2017 = pd.concat([AL,AK,AR,AZ,CA,CO,CT,DE,DC,\n",
    "FL,GA,HI,IA,ID,IL,IN,KS,KY,LA,\n",
    "MA,ME,MD,MI,MN,MO,MS,\n",
    "MT,NC,ND,NE,NH,NJ,NM,\n",
    "NV,NY,OH,OK,OR,PA,\n",
    "RI,SC,SD,TN,TX,UT,\n",
    "VA,VT,WA,WI,WV,WY])\n",
    "\n",
    "fatal_2017.to_csv('../../data/cleaned_data/model_data/2017/fatal_2017.csv')"
   ]
  }
 ],
 "metadata": {
  "kernelspec": {
   "display_name": "Python 3",
   "language": "python",
   "name": "python3"
  },
  "language_info": {
   "codemirror_mode": {
    "name": "ipython",
    "version": 3
   },
   "file_extension": ".py",
   "mimetype": "text/x-python",
   "name": "python",
   "nbconvert_exporter": "python",
   "pygments_lexer": "ipython3",
   "version": "3.7.3"
  }
 },
 "nbformat": 4,
 "nbformat_minor": 2
}
