{
 "cells": [
  {
   "cell_type": "markdown",
   "metadata": {},
   "source": [
    "### Data Import and Cleaning"
   ]
  },
  {
   "cell_type": "code",
   "execution_count": null,
   "metadata": {},
   "outputs": [],
   "source": [
    "import pandas as pd"
   ]
  },
  {
   "cell_type": "code",
   "execution_count": 2,
   "metadata": {},
   "outputs": [],
   "source": [
    "severe = pd.read_csv('../data/severeinjury.csv', encoding='latin-1')\n",
    "severe.head(1)"
   ]
  },
  {
   "cell_type": "code",
   "execution_count": 3,
   "metadata": {},
   "outputs": [
    {
     "data": {
      "text/plain": [
       "Index(['Identification Number', 'UPA', 'EventDate', 'Employer', 'Address1',\n",
       "       'Address2', 'City', 'State', 'Zip', 'Latitude', 'Longitude',\n",
       "       'Primary NAICS', 'Hospitalized', 'Amputation', 'Inspection',\n",
       "       'Final Narrative', 'Nature', 'NatureTitle', 'Part of Body',\n",
       "       'Part of Body Title', 'Event', 'EventTitle', 'Source', 'SourceTitle',\n",
       "       'Secondary Source', 'Secondary Source Title'],\n",
       "      dtype='object')"
      ]
     },
     "execution_count": 3,
     "metadata": {},
     "output_type": "execute_result"
    }
   ],
   "source": [
    "severe.columns"
   ]
  },
  {
   "cell_type": "code",
   "execution_count": 4,
   "metadata": {},
   "outputs": [],
   "source": [
    "severe.drop(columns=['Employer', 'Zip', 'Inspection','Identification Number','UPA','Address1','Address2','Nature','NatureTitle','Part of Body','Part of Body Title', 'Source', 'SourceTitle', 'Secondary Source','Secondary Source Title','Hospitalized','Amputation','EventTitle','Final Narrative','Event'], inplace=True)"
   ]
  },
  {
   "cell_type": "code",
   "execution_count": 5,
   "metadata": {},
   "outputs": [
    {
     "data": {
      "text/html": [
       "<div>\n",
       "<style scoped>\n",
       "    .dataframe tbody tr th:only-of-type {\n",
       "        vertical-align: middle;\n",
       "    }\n",
       "\n",
       "    .dataframe tbody tr th {\n",
       "        vertical-align: top;\n",
       "    }\n",
       "\n",
       "    .dataframe thead th {\n",
       "        text-align: right;\n",
       "    }\n",
       "</style>\n",
       "<table border=\"1\" class=\"dataframe\">\n",
       "  <thead>\n",
       "    <tr style=\"text-align: right;\">\n",
       "      <th></th>\n",
       "      <th>EventDate</th>\n",
       "      <th>City</th>\n",
       "      <th>State</th>\n",
       "      <th>Latitude</th>\n",
       "      <th>Longitude</th>\n",
       "      <th>Primary NAICS</th>\n",
       "    </tr>\n",
       "  </thead>\n",
       "  <tbody>\n",
       "    <tr>\n",
       "      <th>0</th>\n",
       "      <td>1/1/2015</td>\n",
       "      <td>OTISVILLE</td>\n",
       "      <td>NEW YORK</td>\n",
       "      <td>41.46</td>\n",
       "      <td>-74.53</td>\n",
       "      <td>922140</td>\n",
       "    </tr>\n",
       "    <tr>\n",
       "      <th>1</th>\n",
       "      <td>1/1/2015</td>\n",
       "      <td>LAKE DELTON</td>\n",
       "      <td>WISCONSIN</td>\n",
       "      <td>43.59</td>\n",
       "      <td>-89.79</td>\n",
       "      <td>339999</td>\n",
       "    </tr>\n",
       "    <tr>\n",
       "      <th>2</th>\n",
       "      <td>1/1/2015</td>\n",
       "      <td>CORAOPOLIS</td>\n",
       "      <td>PENNSYLVANIA</td>\n",
       "      <td>40.49</td>\n",
       "      <td>-80.11</td>\n",
       "      <td>484121</td>\n",
       "    </tr>\n",
       "    <tr>\n",
       "      <th>3</th>\n",
       "      <td>1/1/2015</td>\n",
       "      <td>MACON</td>\n",
       "      <td>GEORGIA</td>\n",
       "      <td>32.77</td>\n",
       "      <td>-83.65</td>\n",
       "      <td>424490</td>\n",
       "    </tr>\n",
       "    <tr>\n",
       "      <th>4</th>\n",
       "      <td>1/1/2015</td>\n",
       "      <td>JANESVILLE</td>\n",
       "      <td>WISCONSIN</td>\n",
       "      <td>42.67</td>\n",
       "      <td>-89.04</td>\n",
       "      <td>326122</td>\n",
       "    </tr>\n",
       "  </tbody>\n",
       "</table>\n",
       "</div>"
      ],
      "text/plain": [
       "  EventDate         City         State  Latitude  Longitude Primary NAICS\n",
       "0  1/1/2015    OTISVILLE      NEW YORK     41.46     -74.53        922140\n",
       "1  1/1/2015  LAKE DELTON     WISCONSIN     43.59     -89.79        339999\n",
       "2  1/1/2015   CORAOPOLIS  PENNSYLVANIA     40.49     -80.11        484121\n",
       "3  1/1/2015        MACON       GEORGIA     32.77     -83.65        424490\n",
       "4  1/1/2015   JANESVILLE     WISCONSIN     42.67     -89.04        326122"
      ]
     },
     "execution_count": 5,
     "metadata": {},
     "output_type": "execute_result"
    }
   ],
   "source": [
    "severe.head()"
   ]
  },
  {
   "cell_type": "code",
   "execution_count": null,
   "metadata": {},
   "outputs": [],
   "source": []
  },
  {
   "cell_type": "code",
   "execution_count": null,
   "metadata": {},
   "outputs": [],
   "source": []
  },
  {
   "cell_type": "code",
   "execution_count": null,
   "metadata": {},
   "outputs": [],
   "source": []
  },
  {
   "cell_type": "code",
   "execution_count": null,
   "metadata": {},
   "outputs": [],
   "source": []
  }
 ],
 "metadata": {
  "kernelspec": {
   "display_name": "Python 3",
   "language": "python",
   "name": "python3"
  },
  "language_info": {
   "codemirror_mode": {
    "name": "ipython",
    "version": 3
   },
   "file_extension": ".py",
   "mimetype": "text/x-python",
   "name": "python",
   "nbconvert_exporter": "python",
   "pygments_lexer": "ipython3",
   "version": "3.7.3"
  }
 },
 "nbformat": 4,
 "nbformat_minor": 2
}
