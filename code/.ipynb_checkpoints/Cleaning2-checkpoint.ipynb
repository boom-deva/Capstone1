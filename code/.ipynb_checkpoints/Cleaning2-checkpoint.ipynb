{
 "cells": [
  {
   "cell_type": "markdown",
   "metadata": {},
   "source": [
    "# Data Cleaning Part 2\n",
    "\n",
    "Data on the mean and median wages, hourly and annually, for all workers v construction workers will be combined with data on union membership in across all industries v the construction industry.    \n",
    "Final tables contain all state data based on year."
   ]
  },
  {
   "cell_type": "markdown",
   "metadata": {},
   "source": [
    "#### Importing package(s) and reading in data."
   ]
  },
  {
   "cell_type": "code",
   "execution_count": 1,
   "metadata": {},
   "outputs": [],
   "source": [
    "import pandas as pd"
   ]
  },
  {
   "cell_type": "code",
   "execution_count": 2,
   "metadata": {},
   "outputs": [
    {
     "data": {
      "text/html": [
       "<div>\n",
       "<style scoped>\n",
       "    .dataframe tbody tr th:only-of-type {\n",
       "        vertical-align: middle;\n",
       "    }\n",
       "\n",
       "    .dataframe tbody tr th {\n",
       "        vertical-align: top;\n",
       "    }\n",
       "\n",
       "    .dataframe thead th {\n",
       "        text-align: right;\n",
       "    }\n",
       "</style>\n",
       "<table border=\"1\" class=\"dataframe\">\n",
       "  <thead>\n",
       "    <tr style=\"text-align: right;\">\n",
       "      <th></th>\n",
       "      <th>State</th>\n",
       "      <th>OCC_TITLE</th>\n",
       "      <th>TOT_EMP</th>\n",
       "      <th>HR_MEAN $</th>\n",
       "      <th>HR_MEDIAN $</th>\n",
       "      <th>ANN_MEAN $</th>\n",
       "      <th>ANN_MEDIAN $</th>\n",
       "    </tr>\n",
       "  </thead>\n",
       "  <tbody>\n",
       "    <tr>\n",
       "      <th>0</th>\n",
       "      <td>Alabama</td>\n",
       "      <td>All</td>\n",
       "      <td>1,807,480</td>\n",
       "      <td>18.55</td>\n",
       "      <td>14.21</td>\n",
       "      <td>38,590</td>\n",
       "      <td>29,570</td>\n",
       "    </tr>\n",
       "    <tr>\n",
       "      <th>1</th>\n",
       "      <td>Alabama</td>\n",
       "      <td>Construction/Extraction</td>\n",
       "      <td>82,970</td>\n",
       "      <td>16.83</td>\n",
       "      <td>15.26</td>\n",
       "      <td>35,010</td>\n",
       "      <td>31,750</td>\n",
       "    </tr>\n",
       "  </tbody>\n",
       "</table>\n",
       "</div>"
      ],
      "text/plain": [
       "     State                OCC_TITLE    TOT_EMP  HR_MEAN $  HR_MEDIAN $  \\\n",
       "0  Alabama                      All  1,807,480      18.55        14.21   \n",
       "1  Alabama  Construction/Extraction     82,970      16.83        15.26   \n",
       "\n",
       "  ANN_MEAN $ ANN_MEDIAN $  \n",
       "0     38,590       29,570  \n",
       "1     35,010       31,750  "
      ]
     },
     "execution_count": 2,
     "metadata": {},
     "output_type": "execute_result"
    }
   ],
   "source": [
    "med2010 = pd.read_csv('../data/cleaned_data/wages/med_mean_2010.csv')\n",
    "med2010.head(2)"
   ]
  },
  {
   "cell_type": "code",
   "execution_count": 3,
   "metadata": {},
   "outputs": [
    {
     "data": {
      "text/html": [
       "<div>\n",
       "<style scoped>\n",
       "    .dataframe tbody tr th:only-of-type {\n",
       "        vertical-align: middle;\n",
       "    }\n",
       "\n",
       "    .dataframe tbody tr th {\n",
       "        vertical-align: top;\n",
       "    }\n",
       "\n",
       "    .dataframe thead th {\n",
       "        text-align: right;\n",
       "    }\n",
       "</style>\n",
       "<table border=\"1\" class=\"dataframe\">\n",
       "  <thead>\n",
       "    <tr style=\"text-align: right;\">\n",
       "      <th></th>\n",
       "      <th>State</th>\n",
       "      <th>Sector</th>\n",
       "      <th>Employment</th>\n",
       "      <th>%Mem</th>\n",
       "    </tr>\n",
       "  </thead>\n",
       "  <tbody>\n",
       "    <tr>\n",
       "      <th>0</th>\n",
       "      <td>Alabama</td>\n",
       "      <td>Total</td>\n",
       "      <td>1,808,807</td>\n",
       "      <td>10.1</td>\n",
       "    </tr>\n",
       "    <tr>\n",
       "      <th>1</th>\n",
       "      <td>Alabama</td>\n",
       "      <td>Construction</td>\n",
       "      <td>100,593</td>\n",
       "      <td>4.8</td>\n",
       "    </tr>\n",
       "  </tbody>\n",
       "</table>\n",
       "</div>"
      ],
      "text/plain": [
       "     State        Sector Employment  %Mem\n",
       "0  Alabama         Total  1,808,807  10.1\n",
       "1  Alabama  Construction    100,593   4.8"
      ]
     },
     "execution_count": 3,
     "metadata": {},
     "output_type": "execute_result"
    }
   ],
   "source": [
    "mem2010 =pd.read_csv('../data/cleaned_data/membership/State_UMem_2010.csv', index_col=0).drop(columns=['Members'])\n",
    "mem2010.head(2)"
   ]
  },
  {
   "cell_type": "markdown",
   "metadata": {},
   "source": [
    "The function below will combine dataframes of states' wages and membership data from same year."
   ]
  },
  {
   "cell_type": "code",
   "execution_count": 4,
   "metadata": {},
   "outputs": [],
   "source": [
    "def merge_yr(df1,df2):\n",
    "    df = df1.merge(df2, on='State').drop(columns=['OCC_TITLE','TOT_EMP','HR_MEAN $','HR_MEDIAN $'])\n",
    "    return df"
   ]
  },
  {
   "cell_type": "markdown",
   "metadata": {},
   "source": [
    "As a result of the merge, every row appears twice. A simple 'drop duplicates' operator does not work, so we will break the new dataframe into slices of each set of columns and rejoin."
   ]
  },
  {
   "cell_type": "code",
   "execution_count": 5,
   "metadata": {},
   "outputs": [],
   "source": [
    "def join_yr(df):\n",
    "    # breaks df into slices by employment sector, taking every other row\n",
    "    sl1 = df[(df['Sector']=='Total')].iloc[::2]\n",
    "    sl2 = df[(df['Sector']=='Construction')].iloc[1::2]\n",
    "    # merging slices back into one df by state\n",
    "    df = sl1.merge(sl2,on='State')\n",
    "    # giving columns appropriate names\n",
    "    df = df.rename(columns={'ANN_MEAN $_x':'Total_Avg_$',\n",
    "                      'ANN_MEDIAN $_x': 'Total_Med_$',\n",
    "                      'Employment_x':'Total_Employment',\n",
    "                      '%Mem_x': 'Total_Mem_%',\n",
    "                      'ANN_MEAN $_y':'Construction_Avg_$',\n",
    "                      'ANN_MEDIAN $_y': 'Construction_Med_$',\n",
    "                      'Employment_y':'Construction_Employment',\n",
    "                      '%Mem_y': 'Construction_Mem_%'}).drop(columns=['Sector_x', 'Sector_y'])\n",
    "    return df"
   ]
  },
  {
   "cell_type": "code",
   "execution_count": 6,
   "metadata": {},
   "outputs": [],
   "source": [
    "mm2010 = merge_yr(med2010, mem2010)"
   ]
  },
  {
   "cell_type": "code",
   "execution_count": 7,
   "metadata": {},
   "outputs": [
    {
     "data": {
      "text/html": [
       "<div>\n",
       "<style scoped>\n",
       "    .dataframe tbody tr th:only-of-type {\n",
       "        vertical-align: middle;\n",
       "    }\n",
       "\n",
       "    .dataframe tbody tr th {\n",
       "        vertical-align: top;\n",
       "    }\n",
       "\n",
       "    .dataframe thead th {\n",
       "        text-align: right;\n",
       "    }\n",
       "</style>\n",
       "<table border=\"1\" class=\"dataframe\">\n",
       "  <thead>\n",
       "    <tr style=\"text-align: right;\">\n",
       "      <th></th>\n",
       "      <th>State</th>\n",
       "      <th>Total_Avg_$</th>\n",
       "      <th>Total_Med_$</th>\n",
       "      <th>Total_Employment</th>\n",
       "      <th>Total_Mem_%</th>\n",
       "      <th>Construction_Avg_$</th>\n",
       "      <th>Construction_Med_$</th>\n",
       "      <th>Construction_Employment</th>\n",
       "      <th>Construction_Mem_%</th>\n",
       "    </tr>\n",
       "  </thead>\n",
       "  <tbody>\n",
       "    <tr>\n",
       "      <th>0</th>\n",
       "      <td>Alabama</td>\n",
       "      <td>38,590</td>\n",
       "      <td>29,570</td>\n",
       "      <td>1,808,807</td>\n",
       "      <td>10.1</td>\n",
       "      <td>35,010</td>\n",
       "      <td>31,750</td>\n",
       "      <td>100,593</td>\n",
       "      <td>4.8</td>\n",
       "    </tr>\n",
       "    <tr>\n",
       "      <th>1</th>\n",
       "      <td>Alaska</td>\n",
       "      <td>50,350</td>\n",
       "      <td>41,640</td>\n",
       "      <td>295,063</td>\n",
       "      <td>22.9</td>\n",
       "      <td>59,980</td>\n",
       "      <td>59,660</td>\n",
       "      <td>17,440</td>\n",
       "      <td>21.4</td>\n",
       "    </tr>\n",
       "    <tr>\n",
       "      <th>2</th>\n",
       "      <td>Arizona</td>\n",
       "      <td>42,390</td>\n",
       "      <td>33,040</td>\n",
       "      <td>2,506,723</td>\n",
       "      <td>6.4</td>\n",
       "      <td>39,060</td>\n",
       "      <td>36,380</td>\n",
       "      <td>163,760</td>\n",
       "      <td>5.3</td>\n",
       "    </tr>\n",
       "    <tr>\n",
       "      <th>3</th>\n",
       "      <td>Arkansas</td>\n",
       "      <td>35,460</td>\n",
       "      <td>27,860</td>\n",
       "      <td>1,081,711</td>\n",
       "      <td>4.0</td>\n",
       "      <td>34,270</td>\n",
       "      <td>31,820</td>\n",
       "      <td>47,617</td>\n",
       "      <td>6.2</td>\n",
       "    </tr>\n",
       "    <tr>\n",
       "      <th>4</th>\n",
       "      <td>California</td>\n",
       "      <td>50,730</td>\n",
       "      <td>37,870</td>\n",
       "      <td>13,891,632</td>\n",
       "      <td>17.5</td>\n",
       "      <td>51,880</td>\n",
       "      <td>48,980</td>\n",
       "      <td>707,158</td>\n",
       "      <td>15.7</td>\n",
       "    </tr>\n",
       "  </tbody>\n",
       "</table>\n",
       "</div>"
      ],
      "text/plain": [
       "        State Total_Avg_$ Total_Med_$ Total_Employment  Total_Mem_%  \\\n",
       "0     Alabama      38,590      29,570        1,808,807         10.1   \n",
       "1      Alaska      50,350      41,640          295,063         22.9   \n",
       "2     Arizona      42,390      33,040        2,506,723          6.4   \n",
       "3    Arkansas      35,460      27,860        1,081,711          4.0   \n",
       "4  California      50,730      37,870       13,891,632         17.5   \n",
       "\n",
       "  Construction_Avg_$ Construction_Med_$ Construction_Employment  \\\n",
       "0             35,010             31,750                 100,593   \n",
       "1             59,980             59,660                  17,440   \n",
       "2             39,060             36,380                 163,760   \n",
       "3             34,270             31,820                  47,617   \n",
       "4             51,880             48,980                 707,158   \n",
       "\n",
       "   Construction_Mem_%  \n",
       "0                 4.8  \n",
       "1                21.4  \n",
       "2                 5.3  \n",
       "3                 6.2  \n",
       "4                15.7  "
      ]
     },
     "execution_count": 7,
     "metadata": {},
     "output_type": "execute_result"
    }
   ],
   "source": [
    "mm2010 = join_yr(mm2010)\n",
    "mm2010.head()"
   ]
  },
  {
   "cell_type": "markdown",
   "metadata": {},
   "source": [
    "Functions have shown successful. We will now apply them to all our years of data."
   ]
  },
  {
   "cell_type": "code",
   "execution_count": 8,
   "metadata": {},
   "outputs": [],
   "source": [
    "# reading in all years of data\n",
    "med2011 = pd.read_csv('../data/cleaned_data/wages/med_mean_2011.csv')\n",
    "mem2011 =pd.read_csv('../data/cleaned_data/membership/State_UMem_2011.csv', index_col=0).drop(columns=['Members'])\n",
    "med2012 = pd.read_csv('../data/cleaned_data/wages/med_mean_2012.csv')\n",
    "mem2012 =pd.read_csv('../data/cleaned_data/membership/State_UMem_2012.csv', index_col=0).drop(columns=['Members'])\n",
    "med2013 = pd.read_csv('../data/cleaned_data/wages/med_mean_2013.csv')\n",
    "mem2013 =pd.read_csv('../data/cleaned_data/membership/State_UMem_2013.csv', index_col=0).drop(columns=['Members'])\n",
    "med2014 = pd.read_csv('../data/cleaned_data/wages/med_mean_2014.csv')\n",
    "mem2014 =pd.read_csv('../data/cleaned_data/membership/State_UMem_2014.csv', index_col=0).drop(columns=['Members'])\n",
    "med2015 = pd.read_csv('../data/cleaned_data/wages/med_mean_2015.csv')\n",
    "mem2015 =pd.read_csv('../data/cleaned_data/membership/State_UMem_2015.csv', index_col=0).drop(columns=['Members'])\n",
    "med2016 = pd.read_csv('../data/cleaned_data/wages/med_mean_2016.csv')\n",
    "mem2016 =pd.read_csv('../data/cleaned_data/membership/State_UMem_2016.csv', index_col=0).drop(columns=['Members'])\n",
    "med2017 = pd.read_csv('../data/cleaned_data/wages/med_mean_2017.csv')\n",
    "mem2017 =pd.read_csv('../data/cleaned_data/membership/State_UMem_2017.csv', index_col=0).drop(columns=['Members'])"
   ]
  },
  {
   "cell_type": "code",
   "execution_count": 9,
   "metadata": {},
   "outputs": [],
   "source": [
    "# merging tables\n",
    "mm2011 = merge_yr(med2011,mem2011)\n",
    "mm2012 = merge_yr(med2012,mem2012)\n",
    "mm2013 = merge_yr(med2013,mem2013)\n",
    "mm2014 = merge_yr(med2014,mem2014)\n",
    "mm2015 = merge_yr(med2015,mem2015)\n",
    "mm2016 = merge_yr(med2016,mem2016)\n",
    "mm2017 = merge_yr(med2017,mem2017)"
   ]
  },
  {
   "cell_type": "code",
   "execution_count": 10,
   "metadata": {},
   "outputs": [],
   "source": [
    "# performing split and rejoin\n",
    "mm2011 = join_yr(mm2011)\n",
    "mm2012 = join_yr(mm2012)\n",
    "mm2013 = join_yr(mm2013)\n",
    "mm2014 = join_yr(mm2014)\n",
    "mm2015 = join_yr(mm2015)\n",
    "mm2016 = join_yr(mm2016)\n",
    "mm2017 = join_yr(mm2017)"
   ]
  },
  {
   "cell_type": "code",
   "execution_count": 11,
   "metadata": {},
   "outputs": [],
   "source": [
    "mm2010.to_csv('../data/cleaned_data/model_data/2010/mm2010.csv')\n",
    "mm2011.to_csv('../data/cleaned_data/model_data/2011/mm2011.csv')\n",
    "mm2012.to_csv('../data/cleaned_data/model_data/2012/mm2012.csv')\n",
    "mm2013.to_csv('../data/cleaned_data/model_data/2013/mm2013.csv')\n",
    "mm2014.to_csv('../data/cleaned_data/model_data/2014/mm2014.csv')\n",
    "mm2015.to_csv('../data/cleaned_data/model_data/2015/mm2015.csv')\n",
    "mm2016.to_csv('../data/cleaned_data/model_data/2016/mm2016.csv')\n",
    "mm2017.to_csv('../data/cleaned_data/model_data/2017/mm2017.csv')"
   ]
  },
  {
   "cell_type": "code",
   "execution_count": null,
   "metadata": {},
   "outputs": [],
   "source": []
  }
 ],
 "metadata": {
  "kernelspec": {
   "display_name": "Python 3",
   "language": "python",
   "name": "python3"
  },
  "language_info": {
   "codemirror_mode": {
    "name": "ipython",
    "version": 3
   },
   "file_extension": ".py",
   "mimetype": "text/x-python",
   "name": "python",
   "nbconvert_exporter": "python",
   "pygments_lexer": "ipython3",
   "version": "3.7.3"
  }
 },
 "nbformat": 4,
 "nbformat_minor": 2
}
