{
 "cells": [
  {
   "cell_type": "markdown",
   "metadata": {},
   "source": [
    "### Data Import and Cleaning"
   ]
  },
  {
   "cell_type": "code",
   "execution_count": 1,
   "metadata": {},
   "outputs": [],
   "source": [
    "import pandas as pd"
   ]
  },
  {
   "cell_type": "code",
   "execution_count": 2,
   "metadata": {},
   "outputs": [
    {
     "data": {
      "text/html": [
       "<div>\n",
       "<style scoped>\n",
       "    .dataframe tbody tr th:only-of-type {\n",
       "        vertical-align: middle;\n",
       "    }\n",
       "\n",
       "    .dataframe tbody tr th {\n",
       "        vertical-align: top;\n",
       "    }\n",
       "\n",
       "    .dataframe thead th {\n",
       "        text-align: right;\n",
       "    }\n",
       "</style>\n",
       "<table border=\"1\" class=\"dataframe\">\n",
       "  <thead>\n",
       "    <tr style=\"text-align: right;\">\n",
       "      <th></th>\n",
       "      <th>State of incident</th>\n",
       "      <th>Number</th>\n",
       "    </tr>\n",
       "  </thead>\n",
       "  <tbody>\n",
       "    <tr>\n",
       "      <th>0</th>\n",
       "      <td>All States Total</td>\n",
       "      <td>367</td>\n",
       "    </tr>\n",
       "    <tr>\n",
       "      <th>1</th>\n",
       "      <td>Alabama</td>\n",
       "      <td>3</td>\n",
       "    </tr>\n",
       "    <tr>\n",
       "      <th>2</th>\n",
       "      <td>Arizona</td>\n",
       "      <td>5</td>\n",
       "    </tr>\n",
       "    <tr>\n",
       "      <th>3</th>\n",
       "      <td>Arkansas</td>\n",
       "      <td>4</td>\n",
       "    </tr>\n",
       "    <tr>\n",
       "      <th>4</th>\n",
       "      <td>California</td>\n",
       "      <td>32</td>\n",
       "    </tr>\n",
       "  </tbody>\n",
       "</table>\n",
       "</div>"
      ],
      "text/plain": [
       "  State of incident  Number\n",
       "0  All States Total    367 \n",
       "1           Alabama      3 \n",
       "2           Arizona      5 \n",
       "3          Arkansas      4 \n",
       "4        California     32 "
      ]
     },
     "execution_count": 2,
     "metadata": {},
     "output_type": "execute_result"
    }
   ],
   "source": [
    "falls2017 = pd.read_csv('fatal-construction-falls-2017 - Con_Falls.csv')\n",
    "falls2017.head()"
   ]
  },
  {
   "cell_type": "code",
   "execution_count": 3,
   "metadata": {},
   "outputs": [
    {
     "name": "stderr",
     "output_type": "stream",
     "text": [
      "C:\\Users\\justanotheregg\\Anaconda3\\envs\\dsi\\lib\\site-packages\\IPython\\core\\interactiveshell.py:3049: DtypeWarning: Columns (11) have mixed types. Specify dtype option on import or set low_memory=False.\n",
      "  interactivity=interactivity, compiler=compiler, result=result)\n"
     ]
    },
    {
     "data": {
      "text/html": [
       "<div>\n",
       "<style scoped>\n",
       "    .dataframe tbody tr th:only-of-type {\n",
       "        vertical-align: middle;\n",
       "    }\n",
       "\n",
       "    .dataframe tbody tr th {\n",
       "        vertical-align: top;\n",
       "    }\n",
       "\n",
       "    .dataframe thead th {\n",
       "        text-align: right;\n",
       "    }\n",
       "</style>\n",
       "<table border=\"1\" class=\"dataframe\">\n",
       "  <thead>\n",
       "    <tr style=\"text-align: right;\">\n",
       "      <th></th>\n",
       "      <th>Identification Number</th>\n",
       "      <th>UPA</th>\n",
       "      <th>EventDate</th>\n",
       "      <th>Employer</th>\n",
       "      <th>Address1</th>\n",
       "      <th>Address2</th>\n",
       "      <th>City</th>\n",
       "      <th>State</th>\n",
       "      <th>Zip</th>\n",
       "      <th>Latitude</th>\n",
       "      <th>...</th>\n",
       "      <th>Nature</th>\n",
       "      <th>NatureTitle</th>\n",
       "      <th>Part of Body</th>\n",
       "      <th>Part of Body Title</th>\n",
       "      <th>Event</th>\n",
       "      <th>EventTitle</th>\n",
       "      <th>Source</th>\n",
       "      <th>SourceTitle</th>\n",
       "      <th>Secondary Source</th>\n",
       "      <th>Secondary Source Title</th>\n",
       "    </tr>\n",
       "  </thead>\n",
       "  <tbody>\n",
       "    <tr>\n",
       "      <th>0</th>\n",
       "      <td>2015010015</td>\n",
       "      <td>931176</td>\n",
       "      <td>1/1/2015</td>\n",
       "      <td>FCI Otisville Federal Correctional Institution</td>\n",
       "      <td>Two Mile Drive</td>\n",
       "      <td>NaN</td>\n",
       "      <td>OTISVILLE</td>\n",
       "      <td>NEW YORK</td>\n",
       "      <td>10963.0</td>\n",
       "      <td>41.46</td>\n",
       "      <td>...</td>\n",
       "      <td>111</td>\n",
       "      <td>Fractures</td>\n",
       "      <td>513</td>\n",
       "      <td>Lower leg(s)</td>\n",
       "      <td>1214</td>\n",
       "      <td>Injured by physical contact with person while ...</td>\n",
       "      <td>5721</td>\n",
       "      <td>Co-worker</td>\n",
       "      <td>5772.0</td>\n",
       "      <td>Inmate or detainee in custody</td>\n",
       "    </tr>\n",
       "  </tbody>\n",
       "</table>\n",
       "<p>1 rows × 26 columns</p>\n",
       "</div>"
      ],
      "text/plain": [
       "   Identification Number     UPA EventDate  \\\n",
       "0             2015010015  931176  1/1/2015   \n",
       "\n",
       "                                         Employer        Address1 Address2  \\\n",
       "0  FCI Otisville Federal Correctional Institution  Two Mile Drive      NaN   \n",
       "\n",
       "        City     State      Zip  Latitude  ...  Nature NatureTitle  \\\n",
       "0  OTISVILLE  NEW YORK  10963.0     41.46  ...     111   Fractures   \n",
       "\n",
       "   Part of Body  Part of Body Title  Event  \\\n",
       "0           513        Lower leg(s)   1214   \n",
       "\n",
       "                                          EventTitle  Source SourceTitle  \\\n",
       "0  Injured by physical contact with person while ...    5721   Co-worker   \n",
       "\n",
       "   Secondary Source         Secondary Source Title  \n",
       "0            5772.0  Inmate or detainee in custody  \n",
       "\n",
       "[1 rows x 26 columns]"
      ]
     },
     "execution_count": 3,
     "metadata": {},
     "output_type": "execute_result"
    }
   ],
   "source": [
    "severe2017 = pd.read_csv('severeinjury.csv', encoding='latin-1')\n",
    "severe2017.head(1)"
   ]
  },
  {
   "cell_type": "code",
   "execution_count": 4,
   "metadata": {},
   "outputs": [
    {
     "data": {
      "text/plain": [
       "Index(['Identification Number', 'UPA', 'EventDate', 'Employer', 'Address1',\n",
       "       'Address2', 'City', 'State', 'Zip', 'Latitude', 'Longitude',\n",
       "       'Primary NAICS', 'Hospitalized', 'Amputation', 'Inspection',\n",
       "       'Final Narrative', 'Nature', 'NatureTitle', 'Part of Body',\n",
       "       'Part of Body Title', 'Event', 'EventTitle', 'Source', 'SourceTitle',\n",
       "       'Secondary Source', 'Secondary Source Title'],\n",
       "      dtype='object')"
      ]
     },
     "execution_count": 4,
     "metadata": {},
     "output_type": "execute_result"
    }
   ],
   "source": [
    "severe2017.columns"
   ]
  },
  {
   "cell_type": "code",
   "execution_count": 5,
   "metadata": {},
   "outputs": [],
   "source": [
    "severe2017.drop(columns=['Identification Number','UPA','Address1','Address2','Nature','NatureTitle','Part of Body','Part of Body Title', 'Source', 'SourceTitle', 'Secondary Source','Secondary Source Title','Hospitalized','Amputation','EventTitle','Final Narrative','Event'], inplace=True)"
   ]
  },
  {
   "cell_type": "code",
   "execution_count": 6,
   "metadata": {},
   "outputs": [],
   "source": [
    "cali_2017 = pd.read_csv('california .csv',encoding='latin-1', header=2, index_col=None)\n",
    "dc_2017 = pd.read_csv('dc .csv',encoding='latin-1', header=2, index_col=None)\n",
    "nc_2017 = pd.read_csv('northcarolina.csv',encoding='latin-1', header=2, index_col=None)\n",
    "ny_2017 = pd.read_csv('newyorkstate.csv',encoding='latin-1', header=2, index_col=None)"
   ]
  },
  {
   "cell_type": "code",
   "execution_count": 7,
   "metadata": {},
   "outputs": [
    {
     "data": {
      "text/html": [
       "<div>\n",
       "<style scoped>\n",
       "    .dataframe tbody tr th:only-of-type {\n",
       "        vertical-align: middle;\n",
       "    }\n",
       "\n",
       "    .dataframe tbody tr th {\n",
       "        vertical-align: top;\n",
       "    }\n",
       "\n",
       "    .dataframe thead th {\n",
       "        text-align: right;\n",
       "    }\n",
       "</style>\n",
       "<table border=\"1\" class=\"dataframe\">\n",
       "  <thead>\n",
       "    <tr style=\"text-align: right;\">\n",
       "      <th></th>\n",
       "      <th>Industry2</th>\n",
       "      <th>NAICS code3</th>\n",
       "      <th>Total recordable cases</th>\n",
       "      <th>Total</th>\n",
       "      <th>Cases with days away from work4</th>\n",
       "      <th>Cases with job transfer or restriction</th>\n",
       "      <th>Other recordable cases</th>\n",
       "    </tr>\n",
       "  </thead>\n",
       "  <tbody>\n",
       "    <tr>\n",
       "      <th>0</th>\n",
       "      <td>All industries including private, state and l...</td>\n",
       "      <td>NaN</td>\n",
       "      <td>3.6</td>\n",
       "      <td>2.1</td>\n",
       "      <td>1.1</td>\n",
       "      <td>0.9</td>\n",
       "      <td>1.5</td>\n",
       "    </tr>\n",
       "    <tr>\n",
       "      <th>1</th>\n",
       "      <td>Private industry5</td>\n",
       "      <td>NaN</td>\n",
       "      <td>3.2</td>\n",
       "      <td>2.0</td>\n",
       "      <td>1.0</td>\n",
       "      <td>0.9</td>\n",
       "      <td>1.3</td>\n",
       "    </tr>\n",
       "    <tr>\n",
       "      <th>2</th>\n",
       "      <td>Goods-producing5</td>\n",
       "      <td>NaN</td>\n",
       "      <td>3.7</td>\n",
       "      <td>2.5</td>\n",
       "      <td>1.2</td>\n",
       "      <td>1.2</td>\n",
       "      <td>1.3</td>\n",
       "    </tr>\n",
       "    <tr>\n",
       "      <th>3</th>\n",
       "      <td>Natural resources and mining5,6</td>\n",
       "      <td>NaN</td>\n",
       "      <td>5.0</td>\n",
       "      <td>3.0</td>\n",
       "      <td>1.4</td>\n",
       "      <td>1.6</td>\n",
       "      <td>2.0</td>\n",
       "    </tr>\n",
       "    <tr>\n",
       "      <th>4</th>\n",
       "      <td>Agriculture, forestry, fishing and hunting5</td>\n",
       "      <td>11</td>\n",
       "      <td>5.3</td>\n",
       "      <td>3.2</td>\n",
       "      <td>1.5</td>\n",
       "      <td>1.7</td>\n",
       "      <td>2.1</td>\n",
       "    </tr>\n",
       "  </tbody>\n",
       "</table>\n",
       "</div>"
      ],
      "text/plain": [
       "                                           Industry2 NAICS code3  \\\n",
       "0   All industries including private, state and l...         NaN   \n",
       "1                                  Private industry5         NaN   \n",
       "2                                   Goods-producing5         NaN   \n",
       "3                    Natural resources and mining5,6         NaN   \n",
       "4        Agriculture, forestry, fishing and hunting5          11   \n",
       "\n",
       "  Total recordable cases Total Cases with days away from work4  \\\n",
       "0                    3.6   2.1                             1.1   \n",
       "1                    3.2   2.0                             1.0   \n",
       "2                    3.7   2.5                             1.2   \n",
       "3                    5.0   3.0                             1.4   \n",
       "4                    5.3   3.2                             1.5   \n",
       "\n",
       "  Cases with job transfer or restriction Other recordable cases  \n",
       "0                                    0.9                    1.5  \n",
       "1                                    0.9                    1.3  \n",
       "2                                    1.2                    1.3  \n",
       "3                                    1.6                    2.0  \n",
       "4                                    1.7                    2.1  "
      ]
     },
     "execution_count": 7,
     "metadata": {},
     "output_type": "execute_result"
    }
   ],
   "source": [
    "cali_2017.head()"
   ]
  },
  {
   "cell_type": "code",
   "execution_count": 8,
   "metadata": {},
   "outputs": [],
   "source": [
    "#removing end rows containing explanatory text rather than data\n",
    "cali_2017 = cali_2017.iloc[0:493, :]"
   ]
  },
  {
   "cell_type": "code",
   "execution_count": 9,
   "metadata": {},
   "outputs": [],
   "source": [
    "dc_2017 = dc_2017.iloc[0:30, :]"
   ]
  },
  {
   "cell_type": "code",
   "execution_count": 10,
   "metadata": {},
   "outputs": [],
   "source": [
    "nc_2017 = nc_2017.iloc[0:264, :]"
   ]
  },
  {
   "cell_type": "code",
   "execution_count": 11,
   "metadata": {},
   "outputs": [],
   "source": [
    "ny_2017 = ny_2017.iloc[0:179, :]"
   ]
  },
  {
   "cell_type": "code",
   "execution_count": 12,
   "metadata": {},
   "outputs": [],
   "source": [
    "#the state dfs are all same format, so this function removes unnecessary columns from all\n",
    "#renames columns for ease; removes trailing number at end of industry entries\n",
    "def remove(df):\n",
    "    df.drop(columns=['Cases with days away from work4', 'Cases with job transfer or restriction', 'Other recordable cases'], inplace=True)\n",
    "    df.rename(columns={'Industry2': 'Industry', 'NAICS code3': 'NAICS Code'}, inplace=True)\n",
    "    df['Industry']= df['Industry'].str[:-1]\n",
    "    return df.head()"
   ]
  },
  {
   "cell_type": "code",
   "execution_count": 13,
   "metadata": {},
   "outputs": [
    {
     "data": {
      "text/html": [
       "<div>\n",
       "<style scoped>\n",
       "    .dataframe tbody tr th:only-of-type {\n",
       "        vertical-align: middle;\n",
       "    }\n",
       "\n",
       "    .dataframe tbody tr th {\n",
       "        vertical-align: top;\n",
       "    }\n",
       "\n",
       "    .dataframe thead th {\n",
       "        text-align: right;\n",
       "    }\n",
       "</style>\n",
       "<table border=\"1\" class=\"dataframe\">\n",
       "  <thead>\n",
       "    <tr style=\"text-align: right;\">\n",
       "      <th></th>\n",
       "      <th>Industry</th>\n",
       "      <th>NAICS Code</th>\n",
       "      <th>Total recordable cases</th>\n",
       "      <th>Total</th>\n",
       "    </tr>\n",
       "  </thead>\n",
       "  <tbody>\n",
       "    <tr>\n",
       "      <th>0</th>\n",
       "      <td>All industries including private, state and l...</td>\n",
       "      <td>NaN</td>\n",
       "      <td>2.5</td>\n",
       "      <td>1.3</td>\n",
       "    </tr>\n",
       "    <tr>\n",
       "      <th>1</th>\n",
       "      <td>Private industry</td>\n",
       "      <td>NaN</td>\n",
       "      <td>2.3</td>\n",
       "      <td>1.3</td>\n",
       "    </tr>\n",
       "    <tr>\n",
       "      <th>2</th>\n",
       "      <td>Goods-producing</td>\n",
       "      <td>NaN</td>\n",
       "      <td>2.6</td>\n",
       "      <td>1.6</td>\n",
       "    </tr>\n",
       "    <tr>\n",
       "      <th>3</th>\n",
       "      <td>Natural resources and mining5,</td>\n",
       "      <td>NaN</td>\n",
       "      <td>3.4</td>\n",
       "      <td>2.3</td>\n",
       "    </tr>\n",
       "    <tr>\n",
       "      <th>4</th>\n",
       "      <td>Agriculture, forestry, fishing and hunting</td>\n",
       "      <td>11</td>\n",
       "      <td>3.7</td>\n",
       "      <td>2.5</td>\n",
       "    </tr>\n",
       "  </tbody>\n",
       "</table>\n",
       "</div>"
      ],
      "text/plain": [
       "                                            Industry NAICS Code  \\\n",
       "0   All industries including private, state and l...        NaN   \n",
       "1                                   Private industry        NaN   \n",
       "2                                    Goods-producing        NaN   \n",
       "3                     Natural resources and mining5,        NaN   \n",
       "4         Agriculture, forestry, fishing and hunting         11   \n",
       "\n",
       "  Total recordable cases Total  \n",
       "0                    2.5   1.3  \n",
       "1                    2.3   1.3  \n",
       "2                    2.6   1.6  \n",
       "3                    3.4   2.3  \n",
       "4                    3.7   2.5  "
      ]
     },
     "execution_count": 13,
     "metadata": {},
     "output_type": "execute_result"
    }
   ],
   "source": [
    "remove(cali_2017)\n",
    "remove(dc_2017)\n",
    "remove(ny_2017)\n",
    "remove(nc_2017)"
   ]
  },
  {
   "cell_type": "code",
   "execution_count": 16,
   "metadata": {},
   "outputs": [],
   "source": [
    "cali_2017['State'] = 'California'\n",
    "dc_2017['State'] = 'Washington DC'\n",
    "ny_2017['State'] = 'New York'\n",
    "nc_2017['State'] = 'North Carolina'"
   ]
  },
  {
   "cell_type": "code",
   "execution_count": null,
   "metadata": {},
   "outputs": [],
   "source": []
  }
 ],
 "metadata": {
  "kernelspec": {
   "display_name": "Python 3",
   "language": "python",
   "name": "python3"
  },
  "language_info": {
   "codemirror_mode": {
    "name": "ipython",
    "version": 3
   },
   "file_extension": ".py",
   "mimetype": "text/x-python",
   "name": "python",
   "nbconvert_exporter": "python",
   "pygments_lexer": "ipython3",
   "version": "3.7.3"
  }
 },
 "nbformat": 4,
 "nbformat_minor": 2
}
